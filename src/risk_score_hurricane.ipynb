{
 "cells": [
  {
   "cell_type": "markdown",
   "metadata": {},
   "source": [
    "# Constructing hurricane risk scores"
   ]
  },
  {
   "cell_type": "markdown",
   "metadata": {},
   "source": [
    "The plan here to to first of all look at the exposure of each county in Florida to hurricanes - particularly hurricanes of higher categories.\n",
    "Following one from this, we will look at the presence of each company in each of the counties as therefore the risk to each company relating to hurricanes."
   ]
  },
  {
   "cell_type": "markdown",
   "metadata": {},
   "source": [
    "## Preamble"
   ]
  },
  {
   "cell_type": "code",
   "execution_count": 1,
   "metadata": {},
   "outputs": [],
   "source": [
    "# Import packages\n",
    "import numpy as np\n",
    "import pandas as pd\n",
    "import matplotlib.pyplot as plt"
   ]
  },
  {
   "cell_type": "code",
   "execution_count": 2,
   "metadata": {},
   "outputs": [],
   "source": [
    "# Set up data directories\n",
    "data_path = '../data/{0}.csv'"
   ]
  },
  {
   "cell_type": "code",
   "execution_count": 3,
   "metadata": {},
   "outputs": [],
   "source": [
    "def dfSummary(df):\n",
    "    print('Data Types:\\n{0}\\n'.format(df.dtypes))\n",
    "    print('Dimensions:\\n{0}\\n'.format(df.shape))\n",
    "    print('Columns:\\n{0}\\n'.format(df.columns.values))\n",
    "    print('Data Head:\\n{0}\\n'.format(df.head()))"
   ]
  },
  {
   "cell_type": "markdown",
   "metadata": {},
   "source": [
    "## Hurricanes in each county"
   ]
  },
  {
   "cell_type": "markdown",
   "metadata": {},
   "source": [
    "Read in hurricane data"
   ]
  },
  {
   "cell_type": "code",
   "execution_count": 4,
   "metadata": {},
   "outputs": [],
   "source": [
    "hurricane_data = pd.read_csv(data_path.format('hurricane'))"
   ]
  },
  {
   "cell_type": "code",
   "execution_count": 5,
   "metadata": {},
   "outputs": [
    {
     "name": "stdout",
     "output_type": "stream",
     "text": [
      "Data Types:\n",
      "County                object\n",
      "MajorHurricaneHits     int64\n",
      "dtype: object\n",
      "\n",
      "Dimensions:\n",
      "(45, 2)\n",
      "\n",
      "Columns:\n",
      "['County' 'MajorHurricaneHits']\n",
      "\n",
      "Data Head:\n",
      "     County  MajorHurricaneHits\n",
      "0     Baker                   1\n",
      "1       Bay                   4\n",
      "2  Bradford                   1\n",
      "3   Brevard                   2\n",
      "4   Broward                   1\n",
      "\n"
     ]
    }
   ],
   "source": [
    "dfSummary(hurricane_data)"
   ]
  },
  {
   "cell_type": "code",
   "execution_count": 16,
   "metadata": {},
   "outputs": [
    {
     "name": "stdout",
     "output_type": "stream",
     "text": [
      "[1 4 2 3 8 6]\n"
     ]
    }
   ],
   "source": [
    "print(hurricane_data['MajorHurricaneHits'].unique())"
   ]
  },
  {
   "cell_type": "code",
   "execution_count": 22,
   "metadata": {},
   "outputs": [],
   "source": [
    "hurricane_data['County'] = hurricane_data['County'].str.lower()"
   ]
  },
  {
   "cell_type": "markdown",
   "metadata": {},
   "source": [
    "## Companies in each county"
   ]
  },
  {
   "cell_type": "markdown",
   "metadata": {},
   "source": [
    "Read in companies data"
   ]
  },
  {
   "cell_type": "code",
   "execution_count": 23,
   "metadata": {},
   "outputs": [
    {
     "name": "stdout",
     "output_type": "stream",
     "text": [
      "Data Types:\n",
      "Unnamed: 0                           int64\n",
      "Filing ID                            int64\n",
      "Company ID                           int64\n",
      "Company                             object\n",
      "County                              object\n",
      "Insurance Type                      object\n",
      "Insurance Type Code                  int64\n",
      "Number of Claims                   float64\n",
      "Closed Claims (paid)               float64\n",
      "Closed Claims (not paid)           float64\n",
      "Number Claims Open                 float64\n",
      "Paid Loss                          float64\n",
      "Number Claims with AOB             float64\n",
      "NAIC Number                          int64\n",
      "Claims                             float64\n",
      "Proportion of Claims               float64\n",
      "Company Name                        object\n",
      "NAIC Code                          float64\n",
      "Product type                        object\n",
      "Share of product complaints (%)    float64\n",
      "Product premium                    float64\n",
      "Share of product premiums (%)      float64\n",
      "Number of complaints               float64\n",
      "County premium                     float64\n",
      "cost_per_claim                     float64\n",
      "Loss ratio                         float64\n",
      "Frequency                          float64\n",
      "dtype: object\n",
      "\n",
      "Dimensions:\n",
      "(2263, 27)\n",
      "\n",
      "Columns:\n",
      "['Unnamed: 0' 'Filing ID' 'Company ID' 'Company' 'County' 'Insurance Type'\n",
      " 'Insurance Type Code' 'Number of Claims' 'Closed Claims (paid)'\n",
      " 'Closed Claims (not paid)' 'Number Claims Open' 'Paid Loss'\n",
      " 'Number Claims with AOB' 'NAIC Number' 'Claims' 'Proportion of Claims'\n",
      " 'Company Name' 'NAIC Code' 'Product type'\n",
      " 'Share of product complaints (%)' 'Product premium'\n",
      " 'Share of product premiums (%)' 'Number of complaints' 'County premium'\n",
      " 'cost_per_claim' 'Loss ratio' 'Frequency']\n",
      "\n",
      "Data Head:\n",
      "   Unnamed: 0  Filing ID  Company ID                Company      County  \\\n",
      "0         202    1011513      100502  AIG ASSURANCE COMPANY  okeechobee   \n",
      "1         203    1011513      100502  AIG ASSURANCE COMPANY     broward   \n",
      "2         204    1011513      100502  AIG ASSURANCE COMPANY         lee   \n",
      "3         205    1011513      100502  AIG ASSURANCE COMPANY    franklin   \n",
      "4         206    1011513      100502  AIG ASSURANCE COMPANY   charlotte   \n",
      "\n",
      "  Insurance Type  Insurance Type Code  Number of Claims  Closed Claims (paid)  \\\n",
      "0     Homeowners                    2               0.0                   0.0   \n",
      "1     Homeowners                    2              75.0                  25.0   \n",
      "2     Homeowners                    2              24.0                   5.0   \n",
      "3     Homeowners                    2               0.0                   0.0   \n",
      "4     Homeowners                    2               0.0                   0.0   \n",
      "\n",
      "   Closed Claims (not paid)    ...      NAIC Code  Product type  \\\n",
      "0                       0.0    ...        40258.0     Homeowner   \n",
      "1                      14.0    ...        40258.0     Homeowner   \n",
      "2                       6.0    ...        40258.0     Homeowner   \n",
      "3                       0.0    ...        40258.0     Homeowner   \n",
      "4                       0.0    ...        40258.0     Homeowner   \n",
      "\n",
      "   Share of product complaints (%)  Product premium  \\\n",
      "0                              0.0              0.0   \n",
      "1                              0.0              0.0   \n",
      "2                              0.0              0.0   \n",
      "3                              0.0              0.0   \n",
      "4                              0.0              0.0   \n",
      "\n",
      "   Share of product premiums (%)  Number of complaints County premium  \\\n",
      "0                            0.0                   NaN            0.0   \n",
      "1                            0.0                   NaN            0.0   \n",
      "2                            0.0                   NaN            0.0   \n",
      "3                            0.0                   NaN            0.0   \n",
      "4                            0.0                   NaN            0.0   \n",
      "\n",
      "   cost_per_claim Loss ratio  Frequency  \n",
      "0          0.0000        0.0   0.000000  \n",
      "1      32210.4804        NaN   0.333333  \n",
      "2      44916.4000        NaN   0.208333  \n",
      "3          0.0000        0.0   0.000000  \n",
      "4          0.0000        0.0   0.000000  \n",
      "\n",
      "[5 rows x 27 columns]\n",
      "\n"
     ]
    }
   ],
   "source": [
    "companies_data = pd.read_csv(data_path.format('final_companies'))\n",
    "companies_data['County'] = companies_data['County'].str.lower()\n",
    "dfSummary(companies_data)"
   ]
  },
  {
   "cell_type": "code",
   "execution_count": 24,
   "metadata": {},
   "outputs": [
    {
     "name": "stdout",
     "output_type": "stream",
     "text": [
      "68\n"
     ]
    }
   ],
   "source": [
    "print(len(companies_data['County'].unique()))"
   ]
  },
  {
   "cell_type": "markdown",
   "metadata": {},
   "source": [
    "Join hurricane data to company claims data."
   ]
  },
  {
   "cell_type": "code",
   "execution_count": 25,
   "metadata": {},
   "outputs": [],
   "source": [
    "# Need to define the direction of the join, and the join keys\n",
    "df = pd.merge(left=companies_data, right=hurricane_data, on='County', how='left')"
   ]
  },
  {
   "cell_type": "code",
   "execution_count": 26,
   "metadata": {},
   "outputs": [
    {
     "name": "stdout",
     "output_type": "stream",
     "text": [
      "[ 3.  1. nan  2.  4.  8.]\n"
     ]
    }
   ],
   "source": [
    "print(df['MajorHurricaneHits'].unique())"
   ]
  },
  {
   "cell_type": "markdown",
   "metadata": {},
   "source": [
    "We want to map these nan's to 0."
   ]
  },
  {
   "cell_type": "code",
   "execution_count": 30,
   "metadata": {},
   "outputs": [],
   "source": [
    "def nan_to_nought(row):\n",
    "    if pd.isna(row['MajorHurricaneHits']):\n",
    "        return 0\n",
    "    else:\n",
    "        return row['MajorHurricaneHits']"
   ]
  },
  {
   "cell_type": "code",
   "execution_count": 31,
   "metadata": {},
   "outputs": [
    {
     "name": "stdout",
     "output_type": "stream",
     "text": [
      "Data Types:\n",
      "Unnamed: 0                           int64\n",
      "Filing ID                            int64\n",
      "Company ID                           int64\n",
      "Company                             object\n",
      "County                              object\n",
      "Insurance Type                      object\n",
      "Insurance Type Code                  int64\n",
      "Number of Claims                   float64\n",
      "Closed Claims (paid)               float64\n",
      "Closed Claims (not paid)           float64\n",
      "Number Claims Open                 float64\n",
      "Paid Loss                          float64\n",
      "Number Claims with AOB             float64\n",
      "NAIC Number                          int64\n",
      "Claims                             float64\n",
      "Proportion of Claims               float64\n",
      "Company Name                        object\n",
      "NAIC Code                          float64\n",
      "Product type                        object\n",
      "Share of product complaints (%)    float64\n",
      "Product premium                    float64\n",
      "Share of product premiums (%)      float64\n",
      "Number of complaints               float64\n",
      "County premium                     float64\n",
      "cost_per_claim                     float64\n",
      "Loss ratio                         float64\n",
      "Frequency                          float64\n",
      "MajorHurricaneHits                 float64\n",
      "claims_per_hurricane               float64\n",
      "Number of hurricanes               float64\n",
      "dtype: object\n",
      "\n",
      "Dimensions:\n",
      "(2293, 30)\n",
      "\n",
      "Columns:\n",
      "['Unnamed: 0' 'Filing ID' 'Company ID' 'Company' 'County' 'Insurance Type'\n",
      " 'Insurance Type Code' 'Number of Claims' 'Closed Claims (paid)'\n",
      " 'Closed Claims (not paid)' 'Number Claims Open' 'Paid Loss'\n",
      " 'Number Claims with AOB' 'NAIC Number' 'Claims' 'Proportion of Claims'\n",
      " 'Company Name' 'NAIC Code' 'Product type'\n",
      " 'Share of product complaints (%)' 'Product premium'\n",
      " 'Share of product premiums (%)' 'Number of complaints' 'County premium'\n",
      " 'cost_per_claim' 'Loss ratio' 'Frequency' 'MajorHurricaneHits'\n",
      " 'claims_per_hurricane' 'Number of hurricanes']\n",
      "\n",
      "Data Head:\n",
      "   Unnamed: 0  Filing ID  Company ID                Company      County  \\\n",
      "0         202    1011513      100502  AIG ASSURANCE COMPANY  okeechobee   \n",
      "1         203    1011513      100502  AIG ASSURANCE COMPANY     broward   \n",
      "2         204    1011513      100502  AIG ASSURANCE COMPANY         lee   \n",
      "3         205    1011513      100502  AIG ASSURANCE COMPANY    franklin   \n",
      "4         206    1011513      100502  AIG ASSURANCE COMPANY   charlotte   \n",
      "\n",
      "  Insurance Type  Insurance Type Code  Number of Claims  Closed Claims (paid)  \\\n",
      "0     Homeowners                    2               0.0                   0.0   \n",
      "1     Homeowners                    2              75.0                  25.0   \n",
      "2     Homeowners                    2              24.0                   5.0   \n",
      "3     Homeowners                    2               0.0                   0.0   \n",
      "4     Homeowners                    2               0.0                   0.0   \n",
      "\n",
      "   Closed Claims (not paid)          ...           Product premium  \\\n",
      "0                       0.0          ...                       0.0   \n",
      "1                      14.0          ...                       0.0   \n",
      "2                       6.0          ...                       0.0   \n",
      "3                       0.0          ...                       0.0   \n",
      "4                       0.0          ...                       0.0   \n",
      "\n",
      "   Share of product premiums (%)  Number of complaints  County premium  \\\n",
      "0                            0.0                   NaN             0.0   \n",
      "1                            0.0                   NaN             0.0   \n",
      "2                            0.0                   NaN             0.0   \n",
      "3                            0.0                   NaN             0.0   \n",
      "4                            0.0                   NaN             0.0   \n",
      "\n",
      "   cost_per_claim  Loss ratio Frequency  MajorHurricaneHits  \\\n",
      "0          0.0000         0.0  0.000000                 3.0   \n",
      "1      32210.4804         NaN  0.333333                 1.0   \n",
      "2      44916.4000         NaN  0.208333                 3.0   \n",
      "3          0.0000         0.0  0.000000                 1.0   \n",
      "4          0.0000         0.0  0.000000                 3.0   \n",
      "\n",
      "  claims_per_hurricane  Number of hurricanes  \n",
      "0                  0.0                   3.0  \n",
      "1                 75.0                   1.0  \n",
      "2                  8.0                   3.0  \n",
      "3                  0.0                   1.0  \n",
      "4                  0.0                   3.0  \n",
      "\n",
      "[5 rows x 30 columns]\n",
      "\n"
     ]
    }
   ],
   "source": [
    "df['Number of hurricanes'] = df.apply(nan_to_nought,axis=1)\n",
    "dfSummary(df)"
   ]
  },
  {
   "cell_type": "code",
   "execution_count": 32,
   "metadata": {},
   "outputs": [
    {
     "name": "stdout",
     "output_type": "stream",
     "text": [
      "[3. 1. 0. 2. 4. 8.]\n"
     ]
    }
   ],
   "source": [
    "print(df['Number of hurricanes'].unique())"
   ]
  },
  {
   "cell_type": "markdown",
   "metadata": {},
   "source": [
    "Create new column of claims per hurricane for each company in each county."
   ]
  },
  {
   "cell_type": "code",
   "execution_count": 38,
   "metadata": {},
   "outputs": [],
   "source": [
    "def make_claims_per_hurricane(row):\n",
    "    x = row['Number of Claims']\n",
    "    y = row['Number of hurricanes']\n",
    "    if x==0:\n",
    "        return 0\n",
    "    elif y==0:\n",
    "        return np.NaN\n",
    "    else:\n",
    "        return x/y"
   ]
  },
  {
   "cell_type": "code",
   "execution_count": 39,
   "metadata": {},
   "outputs": [],
   "source": [
    "df['claims_per_hurricane'] = df.apply(make_claims_per_hurricane, axis=1)"
   ]
  },
  {
   "cell_type": "code",
   "execution_count": 40,
   "metadata": {},
   "outputs": [
    {
     "name": "stdout",
     "output_type": "stream",
     "text": [
      "Data Types:\n",
      "Unnamed: 0                           int64\n",
      "Filing ID                            int64\n",
      "Company ID                           int64\n",
      "Company                             object\n",
      "County                              object\n",
      "Insurance Type                      object\n",
      "Insurance Type Code                  int64\n",
      "Number of Claims                   float64\n",
      "Closed Claims (paid)               float64\n",
      "Closed Claims (not paid)           float64\n",
      "Number Claims Open                 float64\n",
      "Paid Loss                          float64\n",
      "Number Claims with AOB             float64\n",
      "NAIC Number                          int64\n",
      "Claims                             float64\n",
      "Proportion of Claims               float64\n",
      "Company Name                        object\n",
      "NAIC Code                          float64\n",
      "Product type                        object\n",
      "Share of product complaints (%)    float64\n",
      "Product premium                    float64\n",
      "Share of product premiums (%)      float64\n",
      "Number of complaints               float64\n",
      "County premium                     float64\n",
      "cost_per_claim                     float64\n",
      "Loss ratio                         float64\n",
      "Frequency                          float64\n",
      "MajorHurricaneHits                 float64\n",
      "claims_per_hurricane               float64\n",
      "Number of hurricanes               float64\n",
      "dtype: object\n",
      "\n",
      "Dimensions:\n",
      "(2293, 30)\n",
      "\n",
      "Columns:\n",
      "['Unnamed: 0' 'Filing ID' 'Company ID' 'Company' 'County' 'Insurance Type'\n",
      " 'Insurance Type Code' 'Number of Claims' 'Closed Claims (paid)'\n",
      " 'Closed Claims (not paid)' 'Number Claims Open' 'Paid Loss'\n",
      " 'Number Claims with AOB' 'NAIC Number' 'Claims' 'Proportion of Claims'\n",
      " 'Company Name' 'NAIC Code' 'Product type'\n",
      " 'Share of product complaints (%)' 'Product premium'\n",
      " 'Share of product premiums (%)' 'Number of complaints' 'County premium'\n",
      " 'cost_per_claim' 'Loss ratio' 'Frequency' 'MajorHurricaneHits'\n",
      " 'claims_per_hurricane' 'Number of hurricanes']\n",
      "\n",
      "Data Head:\n",
      "   Unnamed: 0  Filing ID  Company ID                Company      County  \\\n",
      "0         202    1011513      100502  AIG ASSURANCE COMPANY  okeechobee   \n",
      "1         203    1011513      100502  AIG ASSURANCE COMPANY     broward   \n",
      "2         204    1011513      100502  AIG ASSURANCE COMPANY         lee   \n",
      "3         205    1011513      100502  AIG ASSURANCE COMPANY    franklin   \n",
      "4         206    1011513      100502  AIG ASSURANCE COMPANY   charlotte   \n",
      "\n",
      "  Insurance Type  Insurance Type Code  Number of Claims  Closed Claims (paid)  \\\n",
      "0     Homeowners                    2               0.0                   0.0   \n",
      "1     Homeowners                    2              75.0                  25.0   \n",
      "2     Homeowners                    2              24.0                   5.0   \n",
      "3     Homeowners                    2               0.0                   0.0   \n",
      "4     Homeowners                    2               0.0                   0.0   \n",
      "\n",
      "   Closed Claims (not paid)          ...           Product premium  \\\n",
      "0                       0.0          ...                       0.0   \n",
      "1                      14.0          ...                       0.0   \n",
      "2                       6.0          ...                       0.0   \n",
      "3                       0.0          ...                       0.0   \n",
      "4                       0.0          ...                       0.0   \n",
      "\n",
      "   Share of product premiums (%)  Number of complaints  County premium  \\\n",
      "0                            0.0                   NaN             0.0   \n",
      "1                            0.0                   NaN             0.0   \n",
      "2                            0.0                   NaN             0.0   \n",
      "3                            0.0                   NaN             0.0   \n",
      "4                            0.0                   NaN             0.0   \n",
      "\n",
      "   cost_per_claim  Loss ratio Frequency  MajorHurricaneHits  \\\n",
      "0          0.0000         0.0  0.000000                 3.0   \n",
      "1      32210.4804         NaN  0.333333                 1.0   \n",
      "2      44916.4000         NaN  0.208333                 3.0   \n",
      "3          0.0000         0.0  0.000000                 1.0   \n",
      "4          0.0000         0.0  0.000000                 3.0   \n",
      "\n",
      "  claims_per_hurricane  Number of hurricanes  \n",
      "0                  0.0                   3.0  \n",
      "1                 75.0                   1.0  \n",
      "2                  8.0                   3.0  \n",
      "3                  0.0                   1.0  \n",
      "4                  0.0                   3.0  \n",
      "\n",
      "[5 rows x 30 columns]\n",
      "\n"
     ]
    }
   ],
   "source": [
    "dfSummary(df)"
   ]
  },
  {
   "cell_type": "code",
   "execution_count": 42,
   "metadata": {},
   "outputs": [
    {
     "name": "stdout",
     "output_type": "stream",
     "text": [
      "715\n"
     ]
    },
    {
     "data": {
      "image/png": "[encoded data removed]",
      "text/plain": [
       "<Figure size 576x576 with 1 Axes>"
      ]
     },
     "metadata": {
      "needs_background": "light"
     },
     "output_type": "display_data"
    }
   ],
   "source": [
    "print(df['claims_per_hurricane'].isna().sum())\n",
    "plt.figure(figsize=(8,8))\n",
    "plt.boxplot(df['claims_per_hurricane'].dropna())\n",
    "plt.show()"
   ]
  },
  {
   "cell_type": "markdown",
   "metadata": {},
   "source": [
    "Hopefully all done and easy.\n",
    "Perhaps we could consider turning these into z-scores?\n",
    "If we do this then we may want to think about what we do with these ridiculous outlliers? (are they outliers?)"
   ]
  },
  {
   "cell_type": "markdown",
   "metadata": {},
   "source": [
    "Write out our new data set."
   ]
  },
  {
   "cell_type": "code",
   "execution_count": 44,
   "metadata": {},
   "outputs": [],
   "source": [
    "df.to_csv(data_path.format('final_hurricane_companies'))"
   ]
  },
  {
   "cell_type": "code",
   "execution_count": 3,
   "metadata": {},
   "outputs": [],
   "source": [
    "import pandas as pd\n",
    "import matplotlib.pyplot as plt\n",
    "df = pd.read_csv(data_path.format('final_hurricane_companies'))"
   ]
  },
  {
   "cell_type": "code",
   "execution_count": 6,
   "metadata": {},
   "outputs": [
    {
     "data": {
      "image/png": "[encoded data removed]",
      "text/plain": [
       "<Figure size 576x864 with 1 Axes>"
      ]
     },
     "metadata": {
      "needs_background": "light"
     },
     "output_type": "display_data"
    }
   ],
   "source": [
    "plt.figure(figsize=(8,12))\n",
    "for x in df['Number of hurricanes'].unique():\n",
    "    tdf = df.loc[df['Number of hurricanes']==x]\n",
    "    plt.hist(tdf['Frequency'], label=x, alpha=0.4)\n",
    "plt.legend()\n",
    "plt.show()"
   ]
  },
  {
   "cell_type": "code",
   "execution_count": 11,
   "metadata": {},
   "outputs": [],
   "source": [
    "import numpy as np\n",
    "import math"
   ]
  },
  {
   "cell_type": "code",
   "execution_count": 12,
   "metadata": {},
   "outputs": [
    {
     "ename": "AttributeError",
     "evalue": "module 'math' has no attribute 'corr'",
     "output_type": "error",
     "traceback": [
      "\u001b[0;31m---------------------------------------------------------------------------\u001b[0m",
      "\u001b[0;31mAttributeError\u001b[0m                            Traceback (most recent call last)",
      "\u001b[0;32m<ipython-input-12-04dcc9513134>\u001b[0m in \u001b[0;36m<module>\u001b[0;34m\u001b[0m\n\u001b[0;32m----> 1\u001b[0;31m \u001b[0mmath\u001b[0m\u001b[0;34m.\u001b[0m\u001b[0mcorr\u001b[0m\u001b[0;34m(\u001b[0m\u001b[0mdf\u001b[0m\u001b[0;34m[\u001b[0m\u001b[0;34m'Frequency'\u001b[0m\u001b[0;34m]\u001b[0m\u001b[0;34m,\u001b[0m \u001b[0mdf\u001b[0m\u001b[0;34m[\u001b[0m\u001b[0;34m'Number of hurricanes'\u001b[0m\u001b[0;34m]\u001b[0m\u001b[0;34m)\u001b[0m\u001b[0;34m\u001b[0m\u001b[0;34m\u001b[0m\u001b[0m\n\u001b[0m",
      "\u001b[0;31mAttributeError\u001b[0m: module 'math' has no attribute 'corr'"
     ]
    }
   ],
   "source": [
    "math.corr(df['Frequency'], df['Number of hurricanes'])"
   ]
  }
 ],
 "metadata": {
  "kernelspec": {
   "display_name": "Python 3",
   "language": "python",
   "name": "python3"
  },
  "language_info": {
   "codemirror_mode": {
    "name": "ipython",
    "version": 3
   },
   "file_extension": ".py",
   "mimetype": "text/x-python",
   "name": "python",
   "nbconvert_exporter": "python",
   "pygments_lexer": "ipython3",
   "version": "3.7.1"
  }
 },
 "nbformat": 4,
 "nbformat_minor": 2
}
