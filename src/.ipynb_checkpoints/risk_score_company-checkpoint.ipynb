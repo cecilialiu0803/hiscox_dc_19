{
 "cells": [
  {
   "cell_type": "markdown",
   "metadata": {},
   "source": [
    "# Constructing company risk scores"
   ]
  },
  {
   "cell_type": "markdown",
   "metadata": {},
   "source": [
    "What we want to do here is implement some of the more standard insurance company KPIs that we've come across that we can construct using the data that we have."
   ]
  },
  {
   "cell_type": "markdown",
   "metadata": {},
   "source": [
    "## Preamble"
   ]
  },
  {
   "cell_type": "code",
   "execution_count": 206,
   "metadata": {},
   "outputs": [],
   "source": [
    "# Import packages\n",
    "import numpy as np\n",
    "import pandas as pd\n",
    "import matplotlib.pyplot as plt"
   ]
  },
  {
   "cell_type": "code",
   "execution_count": 207,
   "metadata": {},
   "outputs": [],
   "source": [
    "# Set up data path\n",
    "data_path = '../data/{0}.csv'"
   ]
  },
  {
   "cell_type": "code",
   "execution_count": 208,
   "metadata": {},
   "outputs": [],
   "source": [
    "def dfSummary(df):\n",
    "    print('Data Types:\\n{0}\\n'.format(df.dtypes))\n",
    "    print('Dimensions:\\n{0}\\n'.format(df.shape))\n",
    "    print('Columns:\\n{0}\\n'.format(df.columns.values))\n",
    "    print('Data Head:\\n{0}\\n'.format(df.head()))"
   ]
  },
  {
   "cell_type": "markdown",
   "metadata": {},
   "source": [
    "## Company data"
   ]
  },
  {
   "cell_type": "markdown",
   "metadata": {},
   "source": [
    "Read in data."
   ]
  },
  {
   "cell_type": "code",
   "execution_count": 209,
   "metadata": {},
   "outputs": [],
   "source": [
    "data = pd.read_csv(data_path.format('Mapping_Data'))"
   ]
  },
  {
   "cell_type": "code",
   "execution_count": 210,
   "metadata": {},
   "outputs": [
    {
     "name": "stdout",
     "output_type": "stream",
     "text": [
      "Data Types:\n",
      "Unnamed: 0                   int64\n",
      "Filing ID                    int64\n",
      "Company ID                   int64\n",
      "Company                     object\n",
      "County                      object\n",
      "Insurance Type              object\n",
      "Insurance Type Code          int64\n",
      "Number of Claims            object\n",
      "Closed Claims (paid)        object\n",
      "Closed Claims (not paid)    object\n",
      "Number Claims Open          object\n",
      "Paid Loss                   object\n",
      "Number Claims with AOB      object\n",
      "NAIC Number                  int64\n",
      "dtype: object\n",
      "\n",
      "Dimensions:\n",
      "(234464, 14)\n",
      "\n",
      "Columns:\n",
      "['Unnamed: 0' 'Filing ID' 'Company ID' 'Company' 'County' 'Insurance Type'\n",
      " 'Insurance Type Code' 'Number of Claims' 'Closed Claims (paid)'\n",
      " 'Closed Claims (not paid)' 'Number Claims Open' 'Paid Loss'\n",
      " 'Number Claims with AOB' 'NAIC Number']\n",
      "\n",
      "Data Head:\n",
      "   Unnamed: 0  Filing ID  Company ID  \\\n",
      "0           0    1001241      102406   \n",
      "1           1    1001241      102406   \n",
      "2           2    1001241      102406   \n",
      "3           3    1001241      102406   \n",
      "4           4    1001241      102406   \n",
      "\n",
      "                                        Company    County  \\\n",
      "0  SAVERS PROPERTY & CASUALTY INSURANCE COMPANY      GULF   \n",
      "1  SAVERS PROPERTY & CASUALTY INSURANCE COMPANY   MADISON   \n",
      "2  SAVERS PROPERTY & CASUALTY INSURANCE COMPANY  ST JOHNS   \n",
      "3  SAVERS PROPERTY & CASUALTY INSURANCE COMPANY    HENDRY   \n",
      "4  SAVERS PROPERTY & CASUALTY INSURANCE COMPANY   BREVARD   \n",
      "\n",
      "          Insurance Type  Insurance Type Code Number of Claims  \\\n",
      "0               Dwelling                    3                .   \n",
      "1          Private Flood                    7                .   \n",
      "2  Business Interruption                    9                .   \n",
      "3             Mobilehome                    4                .   \n",
      "4  Business Interruption                    9                .   \n",
      "\n",
      "  Closed Claims (paid) Closed Claims (not paid) Number Claims Open Paid Loss  \\\n",
      "0                    .                        .                  .         .   \n",
      "1                    .                        .                  .         .   \n",
      "2                    .                        .                  .         .   \n",
      "3                    .                        .                  .         .   \n",
      "4                    .                        .                  .         .   \n",
      "\n",
      "  Number Claims with AOB  NAIC Number  \n",
      "0                      .        16551  \n",
      "1                      .        16551  \n",
      "2                      .        16551  \n",
      "3                      .        16551  \n",
      "4                      .        16551  \n",
      "\n"
     ]
    }
   ],
   "source": [
    "dfSummary(data)"
   ]
  },
  {
   "cell_type": "code",
   "execution_count": 211,
   "metadata": {},
   "outputs": [],
   "source": [
    "def clean_data(df):\n",
    "    \"\"\"\n",
    "    Function to clean up data by ensuring that it is of the correct type.\n",
    "    \"\"\"\n",
    "    numeric_columns = ['Number of Claims', 'Closed Claims (paid)', 'Closed Claims (not paid)',\n",
    "                       'Number Claims Open', 'Paid Loss', 'Number Claims with AOB']\n",
    "    \n",
    "    # Convert numeric columns to numerics\n",
    "    for col in numeric_columns:\n",
    "        df[col] = pd.to_numeric(df[col], errors='coerce')\n",
    "    \n",
    "    # Get rid of unnecessary columns\n",
    "    unnecessary_columns = [_ for _ in df.columns.values if 'Unnamed' in _]\n",
    "    return df.drop(unnecessary_columns, axis=1)"
   ]
  },
  {
   "cell_type": "code",
   "execution_count": 212,
   "metadata": {},
   "outputs": [],
   "source": [
    "clean_data = clean_data(data)"
   ]
  },
  {
   "cell_type": "code",
   "execution_count": 213,
   "metadata": {},
   "outputs": [
    {
     "name": "stdout",
     "output_type": "stream",
     "text": [
      "Data Types:\n",
      "Filing ID                     int64\n",
      "Company ID                    int64\n",
      "Company                      object\n",
      "County                       object\n",
      "Insurance Type               object\n",
      "Insurance Type Code           int64\n",
      "Number of Claims            float64\n",
      "Closed Claims (paid)        float64\n",
      "Closed Claims (not paid)    float64\n",
      "Number Claims Open          float64\n",
      "Paid Loss                   float64\n",
      "Number Claims with AOB      float64\n",
      "NAIC Number                   int64\n",
      "dtype: object\n",
      "\n",
      "Dimensions:\n",
      "(234464, 13)\n",
      "\n",
      "Columns:\n",
      "['Filing ID' 'Company ID' 'Company' 'County' 'Insurance Type'\n",
      " 'Insurance Type Code' 'Number of Claims' 'Closed Claims (paid)'\n",
      " 'Closed Claims (not paid)' 'Number Claims Open' 'Paid Loss'\n",
      " 'Number Claims with AOB' 'NAIC Number']\n",
      "\n",
      "Data Head:\n",
      "   Filing ID  Company ID                                       Company  \\\n",
      "0    1001241      102406  SAVERS PROPERTY & CASUALTY INSURANCE COMPANY   \n",
      "1    1001241      102406  SAVERS PROPERTY & CASUALTY INSURANCE COMPANY   \n",
      "2    1001241      102406  SAVERS PROPERTY & CASUALTY INSURANCE COMPANY   \n",
      "3    1001241      102406  SAVERS PROPERTY & CASUALTY INSURANCE COMPANY   \n",
      "4    1001241      102406  SAVERS PROPERTY & CASUALTY INSURANCE COMPANY   \n",
      "\n",
      "     County         Insurance Type  Insurance Type Code  Number of Claims  \\\n",
      "0      GULF               Dwelling                    3               NaN   \n",
      "1   MADISON          Private Flood                    7               NaN   \n",
      "2  ST JOHNS  Business Interruption                    9               NaN   \n",
      "3    HENDRY             Mobilehome                    4               NaN   \n",
      "4   BREVARD  Business Interruption                    9               NaN   \n",
      "\n",
      "   Closed Claims (paid)  Closed Claims (not paid)  Number Claims Open  \\\n",
      "0                   NaN                       NaN                 NaN   \n",
      "1                   NaN                       NaN                 NaN   \n",
      "2                   NaN                       NaN                 NaN   \n",
      "3                   NaN                       NaN                 NaN   \n",
      "4                   NaN                       NaN                 NaN   \n",
      "\n",
      "   Paid Loss  Number Claims with AOB  NAIC Number  \n",
      "0        NaN                     NaN        16551  \n",
      "1        NaN                     NaN        16551  \n",
      "2        NaN                     NaN        16551  \n",
      "3        NaN                     NaN        16551  \n",
      "4        NaN                     NaN        16551  \n",
      "\n"
     ]
    }
   ],
   "source": [
    "dfSummary(clean_data)"
   ]
  },
  {
   "cell_type": "markdown",
   "metadata": {},
   "source": [
    "Restrict companies data down to:\n",
    "\n",
    "* Insurance type: homeowner\n",
    "* Companies that exist in each of the counties (we assume that where there is no data available for a company in a county that this is because they do not operate in this county"
   ]
  },
  {
   "cell_type": "code",
   "execution_count": 214,
   "metadata": {},
   "outputs": [],
   "source": [
    "def remove_rows(df):\n",
    "    \"\"\"\n",
    "    Function to remove unnecessary rows.\n",
    "    \"\"\"\n",
    "    d = df.loc[df['Insurance Type'] == 'Homeowners']\n",
    "    na_cols = ['Number of Claims', 'Closed Claims (paid)', 'Closed Claims (not paid)',\n",
    "               'Number Claims Open', 'Paid Loss']\n",
    "    return d.dropna(subset=na_cols)"
   ]
  },
  {
   "cell_type": "code",
   "execution_count": 215,
   "metadata": {},
   "outputs": [],
   "source": [
    "clean_data = remove_rows(clean_data)"
   ]
  },
  {
   "cell_type": "code",
   "execution_count": 216,
   "metadata": {},
   "outputs": [
    {
     "name": "stdout",
     "output_type": "stream",
     "text": [
      "Data Types:\n",
      "Filing ID                     int64\n",
      "Company ID                    int64\n",
      "Company                      object\n",
      "County                       object\n",
      "Insurance Type               object\n",
      "Insurance Type Code           int64\n",
      "Number of Claims            float64\n",
      "Closed Claims (paid)        float64\n",
      "Closed Claims (not paid)    float64\n",
      "Number Claims Open          float64\n",
      "Paid Loss                   float64\n",
      "Number Claims with AOB      float64\n",
      "NAIC Number                   int64\n",
      "dtype: object\n",
      "\n",
      "Dimensions:\n",
      "(5336, 13)\n",
      "\n",
      "Columns:\n",
      "['Filing ID' 'Company ID' 'Company' 'County' 'Insurance Type'\n",
      " 'Insurance Type Code' 'Number of Claims' 'Closed Claims (paid)'\n",
      " 'Closed Claims (not paid)' 'Number Claims Open' 'Paid Loss'\n",
      " 'Number Claims with AOB' 'NAIC Number']\n",
      "\n",
      "Data Head:\n",
      "      Filing ID  Company ID                                Company     County  \\\n",
      "2720    1005988      104835  TRAVELERS COMMERCIAL CASUALTY COMPANY    VOLUSIA   \n",
      "2728    1005988      104835  TRAVELERS COMMERCIAL CASUALTY COMPANY  GILCHRIST   \n",
      "2729    1005988      104835  TRAVELERS COMMERCIAL CASUALTY COMPANY     SUMTER   \n",
      "2730    1005988      104835  TRAVELERS COMMERCIAL CASUALTY COMPANY   SUWANNEE   \n",
      "2741    1005988      104835  TRAVELERS COMMERCIAL CASUALTY COMPANY  CHARLOTTE   \n",
      "\n",
      "     Insurance Type  Insurance Type Code  Number of Claims  \\\n",
      "2720     Homeowners                    2               0.0   \n",
      "2728     Homeowners                    2               0.0   \n",
      "2729     Homeowners                    2               0.0   \n",
      "2730     Homeowners                    2               0.0   \n",
      "2741     Homeowners                    2               0.0   \n",
      "\n",
      "      Closed Claims (paid)  Closed Claims (not paid)  Number Claims Open  \\\n",
      "2720                   0.0                       0.0                 0.0   \n",
      "2728                   0.0                       0.0                 0.0   \n",
      "2729                   0.0                       0.0                 0.0   \n",
      "2730                   0.0                       0.0                 0.0   \n",
      "2741                   0.0                       0.0                 0.0   \n",
      "\n",
      "      Paid Loss  Number Claims with AOB  NAIC Number  \n",
      "2720        0.0                     NaN        36137  \n",
      "2728        0.0                     NaN        36137  \n",
      "2729        0.0                     NaN        36137  \n",
      "2730        0.0                     NaN        36137  \n",
      "2741        0.0                     NaN        36137  \n",
      "\n"
     ]
    }
   ],
   "source": [
    "dfSummary(clean_data)"
   ]
  },
  {
   "cell_type": "markdown",
   "metadata": {},
   "source": [
    "Read in Complaints and Product Share data"
   ]
  },
  {
   "cell_type": "code",
   "execution_count": 217,
   "metadata": {},
   "outputs": [
    {
     "name": "stdout",
     "output_type": "stream",
     "text": [
      "Data Types:\n",
      "Company Name                        object\n",
      "NAIC Code                            int64\n",
      "Product type                        object\n",
      "Share of product complaints (%)    float64\n",
      "Product premium                     object\n",
      "Share of product premiums (%)       object\n",
      "Number of complaints                object\n",
      "dtype: object\n",
      "\n",
      "Dimensions:\n",
      "(1102, 7)\n",
      "\n",
      "Columns:\n",
      "['Company Name' 'NAIC Code' 'Product type'\n",
      " 'Share of product complaints (%)' 'Product premium'\n",
      " 'Share of product premiums (%)' 'Number of complaints']\n",
      "\n",
      "Data Head:\n",
      "                 Company Name  NAIC Code      Product type  \\\n",
      "0  PROGRESSIVE EXPRESS INS CO      10193  Commercial Auto    \n",
      "1          AUTO OWNERS INS CO      18988  Commercial Auto    \n",
      "2            WESTFIELD INS CO      24112  Commercial Auto    \n",
      "3          ZURICH AMER INS CO      16535  Commercial Auto    \n",
      "4               OWNERS INS CO      32700  Commercial Auto    \n",
      "\n",
      "   Share of product complaints (%) Product premium  \\\n",
      "0                             44.0            22.6   \n",
      "1                              2.0             1.0   \n",
      "2                              1.0             0.5   \n",
      "3                              1.0             0.5   \n",
      "4                              1.0             0.5   \n",
      "\n",
      "  Share of product premiums (%) Number of complaints  \n",
      "0                   358,506,664                 15.5  \n",
      "1                    72,834,021                  3.1  \n",
      "2                    63,676,261                  2.8  \n",
      "3                    56,616,009                  2.4  \n",
      "4                    55,073,823                  2.4  \n",
      "\n"
     ]
    }
   ],
   "source": [
    "prod_share_data = pd.read_csv(data_path.format('Complaints and Product Share'))\n",
    "dfSummary(prod_share_data)"
   ]
  },
  {
   "cell_type": "markdown",
   "metadata": {},
   "source": [
    "Filter down to homeowner insurance"
   ]
  },
  {
   "cell_type": "code",
   "execution_count": 218,
   "metadata": {},
   "outputs": [],
   "source": [
    "def remove_commas(row):\n",
    "    return row['Product premium'].replace(',', '')"
   ]
  },
  {
   "cell_type": "code",
   "execution_count": 219,
   "metadata": {},
   "outputs": [
    {
     "name": "stdout",
     "output_type": "stream",
     "text": [
      "Data Types:\n",
      "Company Name                        object\n",
      "NAIC Code                            int64\n",
      "Product type                        object\n",
      "Share of product complaints (%)    float64\n",
      "Product premium                      int64\n",
      "Share of product premiums (%)      float64\n",
      "Number of complaints               float64\n",
      "dtype: object\n",
      "\n",
      "Dimensions:\n",
      "(127, 7)\n",
      "\n",
      "Columns:\n",
      "['Company Name' 'NAIC Code' 'Product type'\n",
      " 'Share of product complaints (%)' 'Product premium'\n",
      " 'Share of product premiums (%)' 'Number of complaints']\n",
      "\n",
      "Data Head:\n",
      "                   Company Name  NAIC Code Product type  \\\n",
      "339    UNIVERSAL PROP & CAS INS      10861    Homeowner   \n",
      "340        STATE FARM FL INS CO      10739    Homeowner   \n",
      "341       FEDERATED NATL INS CO      10790    Homeowner   \n",
      "342      CITIZENS PROP INS CORP      10064    Homeowner   \n",
      "343  HERITAGE PROP & CAS INS CO      14407    Homeowner   \n",
      "\n",
      "     Share of product complaints (%)  Product premium  \\\n",
      "339                             11.2        781475443   \n",
      "340                              2.9        581448453   \n",
      "341                              4.1        430041366   \n",
      "342                             12.9        428723564   \n",
      "343                              5.1        398205621   \n",
      "\n",
      "     Share of product premiums (%)  Number of complaints  \n",
      "339                            8.9                  1.26  \n",
      "340                            6.6                  0.44  \n",
      "341                            4.9                  0.84  \n",
      "342                            4.9                  2.65  \n",
      "343                            4.5                  1.13  \n",
      "\n"
     ]
    }
   ],
   "source": [
    "prod_share_data = prod_share_data.loc[prod_share_data['Product type'] == 'Homeowner']\n",
    "numeric_cols = ['Share of product premiums (%)', 'Product premium',\n",
    "                'Share of product premiums (%)', 'Number of complaints']\n",
    "\n",
    "prod_share_data['Product premium'] = prod_share_data.apply(remove_commas, axis=1)\n",
    "\n",
    "for col in numeric_cols:\n",
    "    prod_share_data[col] = pd.to_numeric(prod_share_data[col])\n",
    "dfSummary(prod_share_data)"
   ]
  },
  {
   "cell_type": "markdown",
   "metadata": {},
   "source": [
    "What we would like to do here is to go through each of the insurance companies, look the total number of claims that they have in all of the counties in which they exist and then produce a new column containing the proportion of these claims that are made in each county."
   ]
  },
  {
   "cell_type": "code",
   "execution_count": 220,
   "metadata": {},
   "outputs": [],
   "source": [
    "def get_number_of_claims(row):\n",
    "    \"\"\"\n",
    "    Function to get number of claims for each row which pertains to a unique company.\n",
    "    \"\"\"\n",
    "    company = row['Company']\n",
    "    d = clean_data.loc[clean_data['Company']==company]\n",
    "    return d['Number of Claims'].sum()"
   ]
  },
  {
   "cell_type": "code",
   "execution_count": 221,
   "metadata": {},
   "outputs": [],
   "source": [
    "def make_company_claims(df):\n",
    "    \"\"\"\n",
    "    A function to go through the original data, get the unique companies and total number of claims for each of the companies across all counties.\n",
    "    \"\"\"\n",
    "    companies = df['Company'].unique()\n",
    "    company_claims = pd.DataFrame(columns=['Company', 'Claims'])\n",
    "    company_claims['Company'] = companies\n",
    "    company_claims['Claims'] = company_claims.apply(get_number_of_claims, axis=1)\n",
    "    return company_claims"
   ]
  },
  {
   "cell_type": "code",
   "execution_count": 222,
   "metadata": {},
   "outputs": [],
   "source": [
    "t = make_company_claims(clean_data)"
   ]
  },
  {
   "cell_type": "code",
   "execution_count": 223,
   "metadata": {},
   "outputs": [
    {
     "name": "stdout",
     "output_type": "stream",
     "text": [
      "                                     Company  Claims\n",
      "0      TRAVELERS COMMERCIAL CASUALTY COMPANY     1.0\n",
      "1     TRAVELERS COMMERCIAL INSURANCE COMPANY     0.0\n",
      "2  LANCASHIRE INSURANCE COMPANY (UK) LIMITED     0.0\n",
      "3                      AIG ASSURANCE COMPANY   911.0\n",
      "4  TRAVELERS CASUALTY COMPANY OF CONNECTICUT     1.0\n"
     ]
    }
   ],
   "source": [
    "print(t.head())"
   ]
  },
  {
   "cell_type": "code",
   "execution_count": 224,
   "metadata": {},
   "outputs": [
    {
     "name": "stdout",
     "output_type": "stream",
     "text": [
      "Data Types:\n",
      "Filing ID                     int64\n",
      "Company ID                    int64\n",
      "Company                      object\n",
      "County                       object\n",
      "Insurance Type               object\n",
      "Insurance Type Code           int64\n",
      "Number of Claims            float64\n",
      "Closed Claims (paid)        float64\n",
      "Closed Claims (not paid)    float64\n",
      "Number Claims Open          float64\n",
      "Paid Loss                   float64\n",
      "Number Claims with AOB      float64\n",
      "NAIC Number                   int64\n",
      "Claims                      float64\n",
      "dtype: object\n",
      "\n",
      "Dimensions:\n",
      "(5336, 14)\n",
      "\n",
      "Columns:\n",
      "['Filing ID' 'Company ID' 'Company' 'County' 'Insurance Type'\n",
      " 'Insurance Type Code' 'Number of Claims' 'Closed Claims (paid)'\n",
      " 'Closed Claims (not paid)' 'Number Claims Open' 'Paid Loss'\n",
      " 'Number Claims with AOB' 'NAIC Number' 'Claims']\n",
      "\n",
      "Data Head:\n",
      "   Filing ID  Company ID                                Company     County  \\\n",
      "0    1005988      104835  TRAVELERS COMMERCIAL CASUALTY COMPANY    VOLUSIA   \n",
      "1    1005988      104835  TRAVELERS COMMERCIAL CASUALTY COMPANY  GILCHRIST   \n",
      "2    1005988      104835  TRAVELERS COMMERCIAL CASUALTY COMPANY     SUMTER   \n",
      "3    1005988      104835  TRAVELERS COMMERCIAL CASUALTY COMPANY   SUWANNEE   \n",
      "4    1005988      104835  TRAVELERS COMMERCIAL CASUALTY COMPANY  CHARLOTTE   \n",
      "\n",
      "  Insurance Type  Insurance Type Code  Number of Claims  Closed Claims (paid)  \\\n",
      "0     Homeowners                    2               0.0                   0.0   \n",
      "1     Homeowners                    2               0.0                   0.0   \n",
      "2     Homeowners                    2               0.0                   0.0   \n",
      "3     Homeowners                    2               0.0                   0.0   \n",
      "4     Homeowners                    2               0.0                   0.0   \n",
      "\n",
      "   Closed Claims (not paid)  Number Claims Open  Paid Loss  \\\n",
      "0                       0.0                 0.0        0.0   \n",
      "1                       0.0                 0.0        0.0   \n",
      "2                       0.0                 0.0        0.0   \n",
      "3                       0.0                 0.0        0.0   \n",
      "4                       0.0                 0.0        0.0   \n",
      "\n",
      "   Number Claims with AOB  NAIC Number  Claims  \n",
      "0                     NaN        36137     1.0  \n",
      "1                     NaN        36137     1.0  \n",
      "2                     NaN        36137     1.0  \n",
      "3                     NaN        36137     1.0  \n",
      "4                     NaN        36137     1.0  \n",
      "\n"
     ]
    }
   ],
   "source": [
    "output = pd.merge(left=clean_data, right=t, on='Company', how='left')\n",
    "dfSummary(output)"
   ]
  },
  {
   "cell_type": "code",
   "execution_count": 225,
   "metadata": {},
   "outputs": [
    {
     "name": "stdout",
     "output_type": "stream",
     "text": [
      "Data Types:\n",
      "Filing ID                     int64\n",
      "Company ID                    int64\n",
      "Company                      object\n",
      "County                       object\n",
      "Insurance Type               object\n",
      "Insurance Type Code           int64\n",
      "Number of Claims            float64\n",
      "Closed Claims (paid)        float64\n",
      "Closed Claims (not paid)    float64\n",
      "Number Claims Open          float64\n",
      "Paid Loss                   float64\n",
      "Number Claims with AOB      float64\n",
      "NAIC Number                   int64\n",
      "Claims                      float64\n",
      "Proportion of Claims        float64\n",
      "dtype: object\n",
      "\n",
      "Dimensions:\n",
      "(5336, 15)\n",
      "\n",
      "Columns:\n",
      "['Filing ID' 'Company ID' 'Company' 'County' 'Insurance Type'\n",
      " 'Insurance Type Code' 'Number of Claims' 'Closed Claims (paid)'\n",
      " 'Closed Claims (not paid)' 'Number Claims Open' 'Paid Loss'\n",
      " 'Number Claims with AOB' 'NAIC Number' 'Claims' 'Proportion of Claims']\n",
      "\n",
      "Data Head:\n",
      "   Filing ID  Company ID                                Company     County  \\\n",
      "0    1005988      104835  TRAVELERS COMMERCIAL CASUALTY COMPANY    VOLUSIA   \n",
      "1    1005988      104835  TRAVELERS COMMERCIAL CASUALTY COMPANY  GILCHRIST   \n",
      "2    1005988      104835  TRAVELERS COMMERCIAL CASUALTY COMPANY     SUMTER   \n",
      "3    1005988      104835  TRAVELERS COMMERCIAL CASUALTY COMPANY   SUWANNEE   \n",
      "4    1005988      104835  TRAVELERS COMMERCIAL CASUALTY COMPANY  CHARLOTTE   \n",
      "\n",
      "  Insurance Type  Insurance Type Code  Number of Claims  Closed Claims (paid)  \\\n",
      "0     Homeowners                    2               0.0                   0.0   \n",
      "1     Homeowners                    2               0.0                   0.0   \n",
      "2     Homeowners                    2               0.0                   0.0   \n",
      "3     Homeowners                    2               0.0                   0.0   \n",
      "4     Homeowners                    2               0.0                   0.0   \n",
      "\n",
      "   Closed Claims (not paid)  Number Claims Open  Paid Loss  \\\n",
      "0                       0.0                 0.0        0.0   \n",
      "1                       0.0                 0.0        0.0   \n",
      "2                       0.0                 0.0        0.0   \n",
      "3                       0.0                 0.0        0.0   \n",
      "4                       0.0                 0.0        0.0   \n",
      "\n",
      "   Number Claims with AOB  NAIC Number  Claims  Proportion of Claims  \n",
      "0                     NaN        36137     1.0                   0.0  \n",
      "1                     NaN        36137     1.0                   0.0  \n",
      "2                     NaN        36137     1.0                   0.0  \n",
      "3                     NaN        36137     1.0                   0.0  \n",
      "4                     NaN        36137     1.0                   0.0  \n",
      "\n"
     ]
    }
   ],
   "source": [
    "output['Proportion of Claims'] = output['Number of Claims'] / output['Claims']\n",
    "dfSummary(output)"
   ]
  },
  {
   "cell_type": "code",
   "execution_count": 226,
   "metadata": {},
   "outputs": [
    {
     "name": "stderr",
     "output_type": "stream",
     "text": [
      "/home/ksuchak1990/anaconda3/lib/python3.7/site-packages/numpy/lib/histograms.py:754: RuntimeWarning: invalid value encountered in greater_equal\n",
      "  keep = (tmp_a >= first_edge)\n",
      "/home/ksuchak1990/anaconda3/lib/python3.7/site-packages/numpy/lib/histograms.py:755: RuntimeWarning: invalid value encountered in less_equal\n",
      "  keep &= (tmp_a <= last_edge)\n"
     ]
    },
    {
     "data": {
      "image/png": "[encoded data removed]",
      "text/plain": [
       "<Figure size 576x576 with 1 Axes>"
      ]
     },
     "metadata": {
      "needs_background": "light"
     },
     "output_type": "display_data"
    }
   ],
   "source": [
    "plt.figure(figsize=(8,8))\n",
    "plt.hist(output['Proportion of Claims'], bins=20)\n",
    "plt.xlabel('Proportion of Claims for Company')\n",
    "plt.ylabel('Frequency')\n",
    "plt.show()"
   ]
  },
  {
   "cell_type": "markdown",
   "metadata": {},
   "source": [
    "Before we proceed with merging the product share data and the claims data, let's see if they actually contain the same stuff with regards to NAIC codes:"
   ]
  },
  {
   "cell_type": "code",
   "execution_count": 227,
   "metadata": {},
   "outputs": [
    {
     "name": "stdout",
     "output_type": "stream",
     "text": [
      "127\n",
      "135\n"
     ]
    }
   ],
   "source": [
    "print(len(prod_share_data['NAIC Code'].unique()))\n",
    "print(len(output['NAIC Number'].unique()))"
   ]
  },
  {
   "cell_type": "markdown",
   "metadata": {},
   "source": [
    "This tells us that there are 127 unique NAIC codes in the product share data, and 135 in the claims data"
   ]
  },
  {
   "cell_type": "code",
   "execution_count": 228,
   "metadata": {},
   "outputs": [
    {
     "name": "stdout",
     "output_type": "stream",
     "text": [
      "206\n"
     ]
    }
   ],
   "source": [
    "s = set(prod_share_data['NAIC Code'].unique())\n",
    "for i in output['NAIC Number'].unique():\n",
    "    s.add(i)\n",
    "print(len(s))"
   ]
  },
  {
   "cell_type": "markdown",
   "metadata": {},
   "source": [
    "Ok, so this is interesting, and potentially a little problematic - it appears that there isn't a perfect overlap.\n",
    "There are 206 unique NAICs between the two of them, so there are about 70 that are in one but not the other."
   ]
  },
  {
   "cell_type": "code",
   "execution_count": 229,
   "metadata": {},
   "outputs": [
    {
     "name": "stdout",
     "output_type": "stream",
     "text": [
      "Data Types:\n",
      "Filing ID                            int64\n",
      "Company ID                           int64\n",
      "Company                             object\n",
      "County                              object\n",
      "Insurance Type                      object\n",
      "Insurance Type Code                  int64\n",
      "Number of Claims                   float64\n",
      "Closed Claims (paid)               float64\n",
      "Closed Claims (not paid)           float64\n",
      "Number Claims Open                 float64\n",
      "Paid Loss                          float64\n",
      "Number Claims with AOB             float64\n",
      "NAIC Number                          int64\n",
      "Claims                             float64\n",
      "Proportion of Claims               float64\n",
      "Company Name                        object\n",
      "NAIC Code                          float64\n",
      "Product type                        object\n",
      "Share of product complaints (%)    float64\n",
      "Product premium                    float64\n",
      "Share of product premiums (%)      float64\n",
      "Number of complaints               float64\n",
      "dtype: object\n",
      "\n",
      "Dimensions:\n",
      "(5336, 22)\n",
      "\n",
      "Columns:\n",
      "['Filing ID' 'Company ID' 'Company' 'County' 'Insurance Type'\n",
      " 'Insurance Type Code' 'Number of Claims' 'Closed Claims (paid)'\n",
      " 'Closed Claims (not paid)' 'Number Claims Open' 'Paid Loss'\n",
      " 'Number Claims with AOB' 'NAIC Number' 'Claims' 'Proportion of Claims'\n",
      " 'Company Name' 'NAIC Code' 'Product type'\n",
      " 'Share of product complaints (%)' 'Product premium'\n",
      " 'Share of product premiums (%)' 'Number of complaints']\n",
      "\n",
      "Data Head:\n",
      "   Filing ID  Company ID                                Company     County  \\\n",
      "0    1005988      104835  TRAVELERS COMMERCIAL CASUALTY COMPANY    VOLUSIA   \n",
      "1    1005988      104835  TRAVELERS COMMERCIAL CASUALTY COMPANY  GILCHRIST   \n",
      "2    1005988      104835  TRAVELERS COMMERCIAL CASUALTY COMPANY     SUMTER   \n",
      "3    1005988      104835  TRAVELERS COMMERCIAL CASUALTY COMPANY   SUWANNEE   \n",
      "4    1005988      104835  TRAVELERS COMMERCIAL CASUALTY COMPANY  CHARLOTTE   \n",
      "\n",
      "  Insurance Type  Insurance Type Code  Number of Claims  Closed Claims (paid)  \\\n",
      "0     Homeowners                    2               0.0                   0.0   \n",
      "1     Homeowners                    2               0.0                   0.0   \n",
      "2     Homeowners                    2               0.0                   0.0   \n",
      "3     Homeowners                    2               0.0                   0.0   \n",
      "4     Homeowners                    2               0.0                   0.0   \n",
      "\n",
      "   Closed Claims (not paid)  Number Claims Open          ...           \\\n",
      "0                       0.0                 0.0          ...            \n",
      "1                       0.0                 0.0          ...            \n",
      "2                       0.0                 0.0          ...            \n",
      "3                       0.0                 0.0          ...            \n",
      "4                       0.0                 0.0          ...            \n",
      "\n",
      "   NAIC Number  Claims  Proportion of Claims  Company Name  NAIC Code  \\\n",
      "0        36137     1.0                   0.0           NaN        NaN   \n",
      "1        36137     1.0                   0.0           NaN        NaN   \n",
      "2        36137     1.0                   0.0           NaN        NaN   \n",
      "3        36137     1.0                   0.0           NaN        NaN   \n",
      "4        36137     1.0                   0.0           NaN        NaN   \n",
      "\n",
      "  Product type  Share of product complaints (%) Product premium  \\\n",
      "0          NaN                              NaN             NaN   \n",
      "1          NaN                              NaN             NaN   \n",
      "2          NaN                              NaN             NaN   \n",
      "3          NaN                              NaN             NaN   \n",
      "4          NaN                              NaN             NaN   \n",
      "\n",
      "   Share of product premiums (%)  Number of complaints  \n",
      "0                            NaN                   NaN  \n",
      "1                            NaN                   NaN  \n",
      "2                            NaN                   NaN  \n",
      "3                            NaN                   NaN  \n",
      "4                            NaN                   NaN  \n",
      "\n",
      "[5 rows x 22 columns]\n",
      "\n"
     ]
    }
   ],
   "source": [
    "output = pd.merge(left=output, right=prod_share_data, how='left',\n",
    "                 left_on='NAIC Number', right_on='NAIC Code')\n",
    "dfSummary(output)"
   ]
  },
  {
   "cell_type": "markdown",
   "metadata": {},
   "source": [
    "Let's not make a column for the total premiums generated by each in company in each county using the proportions that we calculated from the claims data."
   ]
  },
  {
   "cell_type": "code",
   "execution_count": 230,
   "metadata": {},
   "outputs": [],
   "source": [
    "output['County premium'] = output['Product premium'] * output['Proportion of Claims']"
   ]
  },
  {
   "cell_type": "markdown",
   "metadata": {},
   "source": [
    "Before we proceed, it might be worth us reducing our data down to the rows where we have values for the columns of interest"
   ]
  },
  {
   "cell_type": "code",
   "execution_count": 231,
   "metadata": {},
   "outputs": [],
   "source": [
    "req_cols = ['Paid Loss', 'Closed Claims (paid)', 'County premium', 'Number of Claims']\n",
    "df = output.dropna(subset=req_cols)"
   ]
  },
  {
   "cell_type": "code",
   "execution_count": 232,
   "metadata": {},
   "outputs": [
    {
     "data": {
      "text/plain": [
       "(2263, 23)"
      ]
     },
     "execution_count": 232,
     "metadata": {},
     "output_type": "execute_result"
    }
   ],
   "source": [
    "df.shape"
   ]
  },
  {
   "cell_type": "markdown",
   "metadata": {},
   "source": [
    "## Making KPI columns"
   ]
  },
  {
   "cell_type": "markdown",
   "metadata": {},
   "source": [
    "### Frequency"
   ]
  },
  {
   "cell_type": "markdown",
   "metadata": {},
   "source": [
    "### Cost per claim"
   ]
  },
  {
   "cell_type": "markdown",
   "metadata": {},
   "source": [
    "* The more claims that an insurance company pays, the less profit that company will make.\n",
    "* So it’s essential to measure the average cost per claim, based on each type of claim the company pays\n",
    "* This provides a clear picture of the type of claim that has the highest risk per policy, which can help companies increase the prices for those specific policies\n",
    "* This KPI is typically analyzed on a bi-annual or annual basis and is calculated by dividing the cost of monthly claims by the number of claims.\n",
    "* The purpose of this KPI is to help your organization to properly assess the risk associated with each type of policy and adjust policy pricing accordingly.  "
   ]
  },
  {
   "cell_type": "code",
   "execution_count": 252,
   "metadata": {},
   "outputs": [],
   "source": [
    "def make_cost_per_claim(row):\n",
    "    x = row['Paid Loss']\n",
    "    y = row['Closed Claims (paid)']\n",
    "    if x==0:\n",
    "        return 0\n",
    "    elif y==0:\n",
    "        return np.NaN\n",
    "    else:\n",
    "        return x/y"
   ]
  },
  {
   "cell_type": "code",
   "execution_count": 253,
   "metadata": {},
   "outputs": [
    {
     "name": "stderr",
     "output_type": "stream",
     "text": [
      "/home/ksuchak1990/anaconda3/lib/python3.7/site-packages/ipykernel_launcher.py:1: SettingWithCopyWarning: \n",
      "A value is trying to be set on a copy of a slice from a DataFrame.\n",
      "Try using .loc[row_indexer,col_indexer] = value instead\n",
      "\n",
      "See the caveats in the documentation: http://pandas.pydata.org/pandas-docs/stable/indexing.html#indexing-view-versus-copy\n",
      "  \"\"\"Entry point for launching an IPython kernel.\n"
     ]
    }
   ],
   "source": [
    "df['cost_per_claim'] = df.apply(make_cost_per_claim, axis=1)"
   ]
  },
  {
   "cell_type": "code",
   "execution_count": 254,
   "metadata": {},
   "outputs": [
    {
     "name": "stdout",
     "output_type": "stream",
     "text": [
      "Data Types:\n",
      "Filing ID                            int64\n",
      "Company ID                           int64\n",
      "Company                             object\n",
      "County                              object\n",
      "Insurance Type                      object\n",
      "Insurance Type Code                  int64\n",
      "Number of Claims                   float64\n",
      "Closed Claims (paid)               float64\n",
      "Closed Claims (not paid)           float64\n",
      "Number Claims Open                 float64\n",
      "Paid Loss                          float64\n",
      "Number Claims with AOB             float64\n",
      "NAIC Number                          int64\n",
      "Claims                             float64\n",
      "Proportion of Claims               float64\n",
      "Company Name                        object\n",
      "NAIC Code                          float64\n",
      "Product type                        object\n",
      "Share of product complaints (%)    float64\n",
      "Product premium                    float64\n",
      "Share of product premiums (%)      float64\n",
      "Number of complaints               float64\n",
      "County premium                     float64\n",
      "cost_per_claim                     float64\n",
      "Loss ratio                         float64\n",
      "dtype: object\n",
      "\n",
      "Dimensions:\n",
      "(2263, 25)\n",
      "\n",
      "Columns:\n",
      "['Filing ID' 'Company ID' 'Company' 'County' 'Insurance Type'\n",
      " 'Insurance Type Code' 'Number of Claims' 'Closed Claims (paid)'\n",
      " 'Closed Claims (not paid)' 'Number Claims Open' 'Paid Loss'\n",
      " 'Number Claims with AOB' 'NAIC Number' 'Claims' 'Proportion of Claims'\n",
      " 'Company Name' 'NAIC Code' 'Product type'\n",
      " 'Share of product complaints (%)' 'Product premium'\n",
      " 'Share of product premiums (%)' 'Number of complaints' 'County premium'\n",
      " 'cost_per_claim' 'Loss ratio']\n",
      "\n",
      "Data Head:\n",
      "     Filing ID  Company ID                Company      County Insurance Type  \\\n",
      "202    1011513      100502  AIG ASSURANCE COMPANY  OKEECHOBEE     Homeowners   \n",
      "203    1011513      100502  AIG ASSURANCE COMPANY     BROWARD     Homeowners   \n",
      "204    1011513      100502  AIG ASSURANCE COMPANY         LEE     Homeowners   \n",
      "205    1011513      100502  AIG ASSURANCE COMPANY    FRANKLIN     Homeowners   \n",
      "206    1011513      100502  AIG ASSURANCE COMPANY   CHARLOTTE     Homeowners   \n",
      "\n",
      "     Insurance Type Code  Number of Claims  Closed Claims (paid)  \\\n",
      "202                    2               0.0                   0.0   \n",
      "203                    2              75.0                  25.0   \n",
      "204                    2              24.0                   5.0   \n",
      "205                    2               0.0                   0.0   \n",
      "206                    2               0.0                   0.0   \n",
      "\n",
      "     Closed Claims (not paid)  Number Claims Open     ...      Company Name  \\\n",
      "202                       0.0                 0.0     ...      AIG ASSUR CO   \n",
      "203                      14.0                36.0     ...      AIG ASSUR CO   \n",
      "204                       6.0                13.0     ...      AIG ASSUR CO   \n",
      "205                       0.0                 0.0     ...      AIG ASSUR CO   \n",
      "206                       0.0                 0.0     ...      AIG ASSUR CO   \n",
      "\n",
      "     NAIC Code  Product type  Share of product complaints (%)  \\\n",
      "202    40258.0     Homeowner                              0.0   \n",
      "203    40258.0     Homeowner                              0.0   \n",
      "204    40258.0     Homeowner                              0.0   \n",
      "205    40258.0     Homeowner                              0.0   \n",
      "206    40258.0     Homeowner                              0.0   \n",
      "\n",
      "     Product premium Share of product premiums (%)  Number of complaints  \\\n",
      "202              0.0                           0.0                   NaN   \n",
      "203              0.0                           0.0                   NaN   \n",
      "204              0.0                           0.0                   NaN   \n",
      "205              0.0                           0.0                   NaN   \n",
      "206              0.0                           0.0                   NaN   \n",
      "\n",
      "    County premium  cost_per_claim  Loss ratio  \n",
      "202            0.0          0.0000         0.0  \n",
      "203            0.0      32210.4804         NaN  \n",
      "204            0.0      44916.4000         NaN  \n",
      "205            0.0          0.0000         0.0  \n",
      "206            0.0          0.0000         0.0  \n",
      "\n",
      "[5 rows x 25 columns]\n",
      "\n"
     ]
    }
   ],
   "source": [
    "dfSummary(df)"
   ]
  },
  {
   "cell_type": "markdown",
   "metadata": {},
   "source": [
    "Ok, so how many of these were we able to calculate for?"
   ]
  },
  {
   "cell_type": "code",
   "execution_count": 255,
   "metadata": {},
   "outputs": [
    {
     "name": "stdout",
     "output_type": "stream",
     "text": [
      "2263\n",
      "24\n"
     ]
    }
   ],
   "source": [
    "print(len(df))\n",
    "print(df['cost_per_claim'].isna().sum())"
   ]
  },
  {
   "cell_type": "markdown",
   "metadata": {},
   "source": [
    "And let's have a look at the distribution of these."
   ]
  },
  {
   "cell_type": "code",
   "execution_count": 259,
   "metadata": {},
   "outputs": [
    {
     "data": {
      "image/png": "[encoded data removed]",
      "text/plain": [
       "<Figure size 576x576 with 1 Axes>"
      ]
     },
     "metadata": {
      "needs_background": "light"
     },
     "output_type": "display_data"
    }
   ],
   "source": [
    "plt.figure(figsize=(8,8))\n",
    "plt.boxplot(df['cost_per_claim'].dropna())\n",
    "plt.show()"
   ]
  },
  {
   "cell_type": "markdown",
   "metadata": {},
   "source": [
    "### Loss ratio"
   ]
  },
  {
   "cell_type": "markdown",
   "metadata": {},
   "source": [
    "* Total losses incurred divided by total premiums earned.\n",
    "* This is an indicator of how well an insurance company is doing.\n",
    "* This ratio reflects if companies are collecting premiums higher than the amount paid in claims or if it is not collecting enough premiums to cover claims.\n",
    "* Companies that have high loss claims may be experiencing financial trouble.  "
   ]
  },
  {
   "cell_type": "code",
   "execution_count": 243,
   "metadata": {},
   "outputs": [
    {
     "data": {
      "image/png": "[encoded data removed]",
      "text/plain": [
       "<Figure size 576x576 with 1 Axes>"
      ]
     },
     "metadata": {
      "needs_background": "light"
     },
     "output_type": "display_data"
    },
    {
     "data": {
      "image/png": "[encoded data removed]",
      "text/plain": [
       "<Figure size 576x576 with 1 Axes>"
      ]
     },
     "metadata": {
      "needs_background": "light"
     },
     "output_type": "display_data"
    }
   ],
   "source": [
    "plt.figure(figsize=(8,8))\n",
    "plt.hist(df['Paid Loss'])\n",
    "plt.show()\n",
    "plt.figure(figsize=(8,8))\n",
    "plt.hist(df['County premium'])\n",
    "plt.show()"
   ]
  },
  {
   "cell_type": "code",
   "execution_count": 244,
   "metadata": {},
   "outputs": [],
   "source": [
    "def make_loss_ratio(row):\n",
    "    x = row['Paid Loss']\n",
    "    y = row['County premium']\n",
    "    if x==0:\n",
    "        return 0\n",
    "    elif y==0:\n",
    "        return np.NaN\n",
    "    else:\n",
    "        return x/y"
   ]
  },
  {
   "cell_type": "code",
   "execution_count": 245,
   "metadata": {},
   "outputs": [
    {
     "name": "stderr",
     "output_type": "stream",
     "text": [
      "/home/ksuchak1990/anaconda3/lib/python3.7/site-packages/ipykernel_launcher.py:1: SettingWithCopyWarning: \n",
      "A value is trying to be set on a copy of a slice from a DataFrame.\n",
      "Try using .loc[row_indexer,col_indexer] = value instead\n",
      "\n",
      "See the caveats in the documentation: http://pandas.pydata.org/pandas-docs/stable/indexing.html#indexing-view-versus-copy\n",
      "  \"\"\"Entry point for launching an IPython kernel.\n"
     ]
    }
   ],
   "source": [
    "df['Loss ratio'] = df.apply(make_loss_ratio, axis=1)"
   ]
  },
  {
   "cell_type": "code",
   "execution_count": 246,
   "metadata": {},
   "outputs": [
    {
     "name": "stdout",
     "output_type": "stream",
     "text": [
      "Data Types:\n",
      "Filing ID                            int64\n",
      "Company ID                           int64\n",
      "Company                             object\n",
      "County                              object\n",
      "Insurance Type                      object\n",
      "Insurance Type Code                  int64\n",
      "Number of Claims                   float64\n",
      "Closed Claims (paid)               float64\n",
      "Closed Claims (not paid)           float64\n",
      "Number Claims Open                 float64\n",
      "Paid Loss                          float64\n",
      "Number Claims with AOB             float64\n",
      "NAIC Number                          int64\n",
      "Claims                             float64\n",
      "Proportion of Claims               float64\n",
      "Company Name                        object\n",
      "NAIC Code                          float64\n",
      "Product type                        object\n",
      "Share of product complaints (%)    float64\n",
      "Product premium                    float64\n",
      "Share of product premiums (%)      float64\n",
      "Number of complaints               float64\n",
      "County premium                     float64\n",
      "cost_per_claim                     float64\n",
      "Loss ratio                         float64\n",
      "dtype: object\n",
      "\n",
      "Dimensions:\n",
      "(2263, 25)\n",
      "\n",
      "Columns:\n",
      "['Filing ID' 'Company ID' 'Company' 'County' 'Insurance Type'\n",
      " 'Insurance Type Code' 'Number of Claims' 'Closed Claims (paid)'\n",
      " 'Closed Claims (not paid)' 'Number Claims Open' 'Paid Loss'\n",
      " 'Number Claims with AOB' 'NAIC Number' 'Claims' 'Proportion of Claims'\n",
      " 'Company Name' 'NAIC Code' 'Product type'\n",
      " 'Share of product complaints (%)' 'Product premium'\n",
      " 'Share of product premiums (%)' 'Number of complaints' 'County premium'\n",
      " 'cost_per_claim' 'Loss ratio']\n",
      "\n",
      "Data Head:\n",
      "     Filing ID  Company ID                Company      County Insurance Type  \\\n",
      "202    1011513      100502  AIG ASSURANCE COMPANY  OKEECHOBEE     Homeowners   \n",
      "203    1011513      100502  AIG ASSURANCE COMPANY     BROWARD     Homeowners   \n",
      "204    1011513      100502  AIG ASSURANCE COMPANY         LEE     Homeowners   \n",
      "205    1011513      100502  AIG ASSURANCE COMPANY    FRANKLIN     Homeowners   \n",
      "206    1011513      100502  AIG ASSURANCE COMPANY   CHARLOTTE     Homeowners   \n",
      "\n",
      "     Insurance Type Code  Number of Claims  Closed Claims (paid)  \\\n",
      "202                    2               0.0                   0.0   \n",
      "203                    2              75.0                  25.0   \n",
      "204                    2              24.0                   5.0   \n",
      "205                    2               0.0                   0.0   \n",
      "206                    2               0.0                   0.0   \n",
      "\n",
      "     Closed Claims (not paid)  Number Claims Open     ...      Company Name  \\\n",
      "202                       0.0                 0.0     ...      AIG ASSUR CO   \n",
      "203                      14.0                36.0     ...      AIG ASSUR CO   \n",
      "204                       6.0                13.0     ...      AIG ASSUR CO   \n",
      "205                       0.0                 0.0     ...      AIG ASSUR CO   \n",
      "206                       0.0                 0.0     ...      AIG ASSUR CO   \n",
      "\n",
      "     NAIC Code  Product type  Share of product complaints (%)  \\\n",
      "202    40258.0     Homeowner                              0.0   \n",
      "203    40258.0     Homeowner                              0.0   \n",
      "204    40258.0     Homeowner                              0.0   \n",
      "205    40258.0     Homeowner                              0.0   \n",
      "206    40258.0     Homeowner                              0.0   \n",
      "\n",
      "     Product premium Share of product premiums (%)  Number of complaints  \\\n",
      "202              0.0                           0.0                   NaN   \n",
      "203              0.0                           0.0                   NaN   \n",
      "204              0.0                           0.0                   NaN   \n",
      "205              0.0                           0.0                   NaN   \n",
      "206              0.0                           0.0                   NaN   \n",
      "\n",
      "    County premium  cost_per_claim  Loss ratio  \n",
      "202            0.0             NaN         0.0  \n",
      "203            0.0      32210.4804         NaN  \n",
      "204            0.0      44916.4000         NaN  \n",
      "205            0.0             NaN         0.0  \n",
      "206            0.0             NaN         0.0  \n",
      "\n",
      "[5 rows x 25 columns]\n",
      "\n"
     ]
    }
   ],
   "source": [
    "dfSummary(df)"
   ]
  },
  {
   "cell_type": "code",
   "execution_count": 251,
   "metadata": {},
   "outputs": [
    {
     "data": {
      "image/png": "[encoded data removed]",
      "text/plain": [
       "<Figure size 576x576 with 1 Axes>"
      ]
     },
     "metadata": {
      "needs_background": "light"
     },
     "output_type": "display_data"
    }
   ],
   "source": [
    "plt.figure(figsize=(8,8))\n",
    "plt.boxplot(df['Loss ratio'].dropna())\n",
    "plt.show()"
   ]
  },
  {
   "cell_type": "markdown",
   "metadata": {},
   "source": [
    "So this looks like most of the companies have very low loss ratios, most of them being less than 1.\n",
    "There are, however, a few outliers ranging up into the 20s."
   ]
  },
  {
   "cell_type": "markdown",
   "metadata": {},
   "source": [
    "### Revenue per policy"
   ]
  },
  {
   "cell_type": "markdown",
   "metadata": {},
   "source": [
    "* Revenue generated by the insurance company divided by number of policyholders serviced. \n",
    "* A low, or lagging, value for this KPI could be due to several factors:\n",
    "    * poor agency and online sales, sub-par in-force customer service (which leads to low retention rate)\n",
    "    * a lack of sound investment practices could all contribute to below average revenue generation\n",
    "* Look to improve your distribution strategy and investment activities to beef up company earnings. "
   ]
  }
 ],
 "metadata": {
  "kernelspec": {
   "display_name": "Python 3",
   "language": "python",
   "name": "python3"
  },
  "language_info": {
   "codemirror_mode": {
    "name": "ipython",
    "version": 3
   },
   "file_extension": ".py",
   "mimetype": "text/x-python",
   "name": "python",
   "nbconvert_exporter": "python",
   "pygments_lexer": "ipython3",
   "version": "3.7.1"
  }
 },
 "nbformat": 4,
 "nbformat_minor": 2
}
