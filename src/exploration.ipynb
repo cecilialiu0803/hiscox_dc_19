{
 "cells": [
  {
   "cell_type": "markdown",
   "metadata": {},
   "source": [
    "# Initial exploration of data"
   ]
  },
  {
   "cell_type": "markdown",
   "metadata": {},
   "source": [
    "## Imports"
   ]
  },
  {
   "cell_type": "code",
   "execution_count": 1,
   "metadata": {},
   "outputs": [],
   "source": [
    "import matplotlib.pyplot as plt\n",
    "import numpy as np\n",
    "import pandas as pd\n",
    "import seaborn as sns\n",
    "\n",
    "%matplotlib inline"
   ]
  },
  {
   "cell_type": "code",
   "execution_count": 62,
   "metadata": {},
   "outputs": [],
   "source": [
    "def dfSummary(df):\n",
    "    print('Data Types:\\n{0}\\n'.format(df.dtypes))\n",
    "    print('Dimensions:\\n{0}\\n'.format(df.shape))\n",
    "    print('Columns:\\n{0}\\n'.format(df.columns.values))\n",
    "    print('Data Head:\\n{0}\\n'.format(df.head()))"
   ]
  },
  {
   "cell_type": "markdown",
   "metadata": {},
   "source": [
    "## Company NAIC"
   ]
  },
  {
   "cell_type": "markdown",
   "metadata": {},
   "source": [
    "### Prep"
   ]
  },
  {
   "cell_type": "code",
   "execution_count": 47,
   "metadata": {},
   "outputs": [],
   "source": [
    "df =  pd.read_csv('../data/Company_NAIC.csv')"
   ]
  },
  {
   "cell_type": "code",
   "execution_count": 63,
   "metadata": {},
   "outputs": [
    {
     "name": "stdout",
     "output_type": "stream",
     "text": [
      "Data Types:\n",
      "Company Name     object\n",
      "NAIC            float64\n",
      "dtype: object\n",
      "\n",
      "Dimensions:\n",
      "(430, 2)\n",
      "\n",
      "Columns:\n",
      "['Company Name' 'NAIC']\n",
      "\n",
      "Data Head:\n",
      "                                   Company Name     NAIC\n",
      "0  SAVERS PROPERTY & CASUALTY INSURANCE COMPANY  16551.0\n",
      "1                        CENTURY SURETY COMPANY  36951.0\n",
      "2           PACIFIC EMPLOYERS INSURANCE COMPANY  22748.0\n",
      "3                 CAPITOL INDEMNITY CORPORATION  10472.0\n",
      "4        AMALGAMATED CASUALTY INSURANCE COMPANY  13293.0\n",
      "\n"
     ]
    }
   ],
   "source": [
    "dfSummary(df)"
   ]
  },
  {
   "cell_type": "markdown",
   "metadata": {},
   "source": [
    "### Cleaning"
   ]
  },
  {
   "cell_type": "code",
   "execution_count": 50,
   "metadata": {},
   "outputs": [],
   "source": [
    "def cleanNumeric(row):\n",
    "    x = row['NAIC']\n",
    "    y = x.strip() if not isinstance(row['NAIC'], float) else x\n",
    "    return y\n",
    "\n",
    "def cleanCompanyNAIC(d):\n",
    "    d.drop(['Unnamed: 0'], axis=1, inplace=True)\n",
    "    d['NAIC'] = d.apply(cleanNumeric, axis=1)\n",
    "    d['NAIC'] = pd.to_numeric(d['NAIC'])\n",
    "    return d"
   ]
  },
  {
   "cell_type": "code",
   "execution_count": 51,
   "metadata": {},
   "outputs": [
    {
     "name": "stdout",
     "output_type": "stream",
     "text": [
      "Company Name     object\n",
      "NAIC            float64\n",
      "dtype: object\n",
      "(430, 2)\n",
      "                                   Company Name     NAIC\n",
      "0  SAVERS PROPERTY & CASUALTY INSURANCE COMPANY  16551.0\n",
      "1                        CENTURY SURETY COMPANY  36951.0\n",
      "2           PACIFIC EMPLOYERS INSURANCE COMPANY  22748.0\n",
      "3                 CAPITOL INDEMNITY CORPORATION  10472.0\n",
      "4        AMALGAMATED CASUALTY INSURANCE COMPANY  13293.0\n"
     ]
    }
   ],
   "source": [
    "df = cleanCompanyNAIC(df)\n",
    "dfSummary(df)"
   ]
  },
  {
   "cell_type": "markdown",
   "metadata": {},
   "source": [
    "### Summary and Visualisation"
   ]
  },
  {
   "cell_type": "code",
   "execution_count": 65,
   "metadata": {},
   "outputs": [
    {
     "data": {
      "text/plain": [
       "72222.0"
      ]
     },
     "execution_count": 65,
     "metadata": {},
     "output_type": "execute_result"
    }
   ],
   "source": [
    "df['NAIC'].max()"
   ]
  },
  {
   "cell_type": "code",
   "execution_count": 66,
   "metadata": {},
   "outputs": [
    {
     "data": {
      "text/plain": [
       "10014.0"
      ]
     },
     "execution_count": 66,
     "metadata": {},
     "output_type": "execute_result"
    }
   ],
   "source": [
    "df['NAIC'].min()"
   ]
  },
  {
   "cell_type": "code",
   "execution_count": 68,
   "metadata": {},
   "outputs": [
    {
     "name": "stdout",
     "output_type": "stream",
     "text": [
      "Number of missing NAICs: 26\n"
     ]
    }
   ],
   "source": [
    "missingNAIC = df['NAIC'].isna().sum()\n",
    "print('Number of missing NAICs: {0}'.format(missingNAIC))"
   ]
  },
  {
   "cell_type": "code",
   "execution_count": 73,
   "metadata": {},
   "outputs": [
    {
     "data": {
      "image/png": "[encoded data removed]",
      "text/plain": [
       "<Figure size 720x576 with 1 Axes>"
      ]
     },
     "metadata": {
      "needs_background": "light"
     },
     "output_type": "display_data"
    }
   ],
   "source": [
    "plt.figure(figsize=(10,8))\n",
    "plt.hist(df['NAIC'])\n",
    "plt.xlabel('NAIC')\n",
    "plt.ylabel('Count')\n",
    "plt.show()"
   ]
  },
  {
   "cell_type": "code",
   "execution_count": 74,
   "metadata": {},
   "outputs": [],
   "source": [
    "del df"
   ]
  },
  {
   "cell_type": "markdown",
   "metadata": {},
   "source": [
    "## Complaints and Product Share"
   ]
  },
  {
   "cell_type": "markdown",
   "metadata": {},
   "source": [
    "### Prep"
   ]
  },
  {
   "cell_type": "code",
   "execution_count": 76,
   "metadata": {},
   "outputs": [],
   "source": [
    "df = pd.read_csv('../data/Complaints and Product Share.csv')"
   ]
  },
  {
   "cell_type": "code",
   "execution_count": 77,
   "metadata": {},
   "outputs": [
    {
     "name": "stdout",
     "output_type": "stream",
     "text": [
      "Data Types:\n",
      "Unnamed: 0                     int64\n",
      "Company Name                  object\n",
      "NAIC Code                      int64\n",
      "Product type                  object\n",
      "Number of Complaints         float64\n",
      "Share of product type        float64\n",
      "Premium                      float64\n",
      "Premium % of product type    float64\n",
      "dtype: object\n",
      "\n",
      "Dimensions:\n",
      "(1102, 8)\n",
      "\n",
      "Columns:\n",
      "['Unnamed: 0' 'Company Name' 'NAIC Code' 'Product type'\n",
      " 'Number of Complaints' 'Share of product type' 'Premium'\n",
      " 'Premium % of product type']\n",
      "\n",
      "Data Head:\n",
      "   Unnamed: 0                Company Name  NAIC Code      Product type  \\\n",
      "0           0  PROGRESSIVE EXPRESS INS CO      10193  Commercial Auto    \n",
      "1           1          AUTO OWNERS INS CO      18988  Commercial Auto    \n",
      "2           2            WESTFIELD INS CO      24112  Commercial Auto    \n",
      "3           3          ZURICH AMER INS CO      16535  Commercial Auto    \n",
      "4           4               OWNERS INS CO      32700  Commercial Auto    \n",
      "\n",
      "   Number of Complaints  Share of product type      Premium  \\\n",
      "0                  44.0                   22.6  358506664.0   \n",
      "1                   2.0                    1.0   72834021.0   \n",
      "2                   1.0                    0.5   63676261.0   \n",
      "3                   1.0                    0.5   56616009.0   \n",
      "4                   1.0                    0.5   55073823.0   \n",
      "\n",
      "   Premium % of product type  \n",
      "0                       15.5  \n",
      "1                        3.1  \n",
      "2                        2.8  \n",
      "3                        2.4  \n",
      "4                        2.4  \n",
      "\n"
     ]
    }
   ],
   "source": [
    "dfSummary(df)"
   ]
  },
  {
   "cell_type": "markdown",
   "metadata": {},
   "source": [
    "### Cleaning"
   ]
  },
  {
   "cell_type": "code",
   "execution_count": 78,
   "metadata": {},
   "outputs": [],
   "source": [
    "def cleanComplaints(d):\n",
    "    d.drop(['Unnamed: 0'], axis=1, inplace=True)\n",
    "    d['Product type'] = d['Product type'].astype('category')\n",
    "    return d"
   ]
  },
  {
   "cell_type": "code",
   "execution_count": 79,
   "metadata": {},
   "outputs": [
    {
     "name": "stdout",
     "output_type": "stream",
     "text": [
      "Data Types:\n",
      "Company Name                   object\n",
      "NAIC Code                       int64\n",
      "Product type                 category\n",
      "Number of Complaints          float64\n",
      "Share of product type         float64\n",
      "Premium                       float64\n",
      "Premium % of product type     float64\n",
      "dtype: object\n",
      "\n",
      "Dimensions:\n",
      "(1102, 7)\n",
      "\n",
      "Columns:\n",
      "['Company Name' 'NAIC Code' 'Product type' 'Number of Complaints'\n",
      " 'Share of product type' 'Premium' 'Premium % of product type']\n",
      "\n",
      "Data Head:\n",
      "                 Company Name  NAIC Code      Product type  \\\n",
      "0  PROGRESSIVE EXPRESS INS CO      10193  Commercial Auto    \n",
      "1          AUTO OWNERS INS CO      18988  Commercial Auto    \n",
      "2            WESTFIELD INS CO      24112  Commercial Auto    \n",
      "3          ZURICH AMER INS CO      16535  Commercial Auto    \n",
      "4               OWNERS INS CO      32700  Commercial Auto    \n",
      "\n",
      "   Number of Complaints  Share of product type      Premium  \\\n",
      "0                  44.0                   22.6  358506664.0   \n",
      "1                   2.0                    1.0   72834021.0   \n",
      "2                   1.0                    0.5   63676261.0   \n",
      "3                   1.0                    0.5   56616009.0   \n",
      "4                   1.0                    0.5   55073823.0   \n",
      "\n",
      "   Premium % of product type  \n",
      "0                       15.5  \n",
      "1                        3.1  \n",
      "2                        2.8  \n",
      "3                        2.4  \n",
      "4                        2.4  \n",
      "\n"
     ]
    }
   ],
   "source": [
    "df = cleanComplaints(df)\n",
    "dfSummary(df)"
   ]
  },
  {
   "cell_type": "markdown",
   "metadata": {},
   "source": [
    "### Summmary and Visualisation"
   ]
  },
  {
   "cell_type": "code",
   "execution_count": 86,
   "metadata": {},
   "outputs": [],
   "source": [
    "columnNames = df.columns.values"
   ]
  },
  {
   "cell_type": "code",
   "execution_count": 93,
   "metadata": {},
   "outputs": [],
   "source": [
    "def makeHist(d, c):\n",
    "    plt.figure(figsize=(8,8))\n",
    "    plt.hist(d[c], bins=15)\n",
    "    plt.xlabel(c)\n",
    "    plt.ylabel('Count')\n",
    "    plt.show()"
   ]
  },
  {
   "cell_type": "code",
   "execution_count": 94,
   "metadata": {},
   "outputs": [
    {
     "data": {
      "image/png": "[encoded data removed]",
      "text/plain": [
       "<Figure size 576x576 with 1 Axes>"
      ]
     },
     "metadata": {
      "needs_background": "light"
     },
     "output_type": "display_data"
    },
    {
     "name": "stderr",
     "output_type": "stream",
     "text": [
      "/home/ksuchak1990/anaconda3/lib/python3.7/site-packages/numpy/lib/histograms.py:754: RuntimeWarning: invalid value encountered in greater_equal\n",
      "  keep = (tmp_a >= first_edge)\n",
      "/home/ksuchak1990/anaconda3/lib/python3.7/site-packages/numpy/lib/histograms.py:755: RuntimeWarning: invalid value encountered in less_equal\n",
      "  keep &= (tmp_a <= last_edge)\n"
     ]
    },
    {
     "data": {
      "image/png": "[encoded data removed]",
      "text/plain": [
       "<Figure size 576x576 with 1 Axes>"
      ]
     },
     "metadata": {
      "needs_background": "light"
     },
     "output_type": "display_data"
    },
    {
     "data": {
      "image/png": "[encoded data removed]",
      "text/plain": [
       "<Figure size 576x576 with 1 Axes>"
      ]
     },
     "metadata": {
      "needs_background": "light"
     },
     "output_type": "display_data"
    },
    {
     "data": {
      "image/png": "[encoded data removed]",
      "text/plain": [
       "<Figure size 576x576 with 1 Axes>"
      ]
     },
     "metadata": {
      "needs_background": "light"
     },
     "output_type": "display_data"
    },
    {
     "data": {
      "image/png": "[encoded data removed]",
      "text/plain": [
       "<Figure size 576x576 with 1 Axes>"
      ]
     },
     "metadata": {
      "needs_background": "light"
     },
     "output_type": "display_data"
    }
   ],
   "source": [
    "for c in columnNames:\n",
    "    t = df[c].dtypes\n",
    "    if pd.api.types.is_numeric_dtype(t):\n",
    "        makeHist(df, c)      "
   ]
  }
 ],
 "metadata": {
  "kernelspec": {
   "display_name": "Python 3",
   "language": "python",
   "name": "python3"
  },
  "language_info": {
   "codemirror_mode": {
    "name": "ipython",
    "version": 3
   },
   "file_extension": ".py",
   "mimetype": "text/x-python",
   "name": "python",
   "nbconvert_exporter": "python",
   "pygments_lexer": "ipython3",
   "version": "3.7.1"
  }
 },
 "nbformat": 4,
 "nbformat_minor": 2
}
